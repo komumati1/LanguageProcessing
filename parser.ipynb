{
 "cells": [
  {
   "cell_type": "markdown",
   "source": [
    "# TODO dorobić ile połączeń występuje"
   ],
   "metadata": {
    "collapsed": false
   },
   "id": "4d08c1df70a68683"
  },
  {
   "cell_type": "code",
   "execution_count": 1,
   "outputs": [],
   "source": [
    "from polish_parser import Parser\n",
    "\n",
    "my_parser = Parser()"
   ],
   "metadata": {
    "collapsed": false,
    "ExecuteTime": {
     "end_time": "2025-10-21T09:53:31.335678800Z",
     "start_time": "2025-10-21T09:53:26.365671400Z"
    }
   },
   "id": "89d5e83c60314b49"
  },
  {
   "cell_type": "code",
   "execution_count": 8,
   "outputs": [
    {
     "data": {
      "text/plain": "Position: 6\nLength: 6\nExpecting: [słuchaliby, słuchali, słuchają]\nReason: Verb should match the noun number: plural. But is singular."
     },
     "execution_count": 8,
     "metadata": {},
     "output_type": "execute_result"
    }
   ],
   "source": [
    "my_parser.parse(\"zamki ma \")"
   ],
   "metadata": {
    "collapsed": false,
    "ExecuteTime": {
     "end_time": "2025-10-21T09:56:04.893602900Z",
     "start_time": "2025-10-21T09:56:04.877874700Z"
    }
   },
   "id": "fe011881cb52ff3b"
  },
  {
   "cell_type": "code",
   "execution_count": 6,
   "outputs": [
    {
     "name": "stderr",
     "output_type": "stream",
     "text": [
      "Exception in Tkinter callback\n",
      "Traceback (most recent call last):\n",
      "  File \"C:\\Users\\mateu\\AppData\\Local\\Programs\\Python\\Python312\\Lib\\tkinter\\__init__.py\", line 1968, in __call__\n",
      "    return self.func(*args)\n",
      "           ^^^^^^^^^^^^^^^^\n",
      "  File \"C:\\Users\\mateu\\AppData\\Local\\Temp\\ipykernel_10904\\3310494609.py\", line 65, in on_text_change\n",
      "    self.show_popup(index, self.suggestions)\n",
      "  File \"C:\\Users\\mateu\\AppData\\Local\\Temp\\ipykernel_10904\\3310494609.py\", line 81, in show_popup\n",
      "    self.popup.see(self.popup.curselection())\n",
      "  File \"C:\\Users\\mateu\\AppData\\Local\\Programs\\Python\\Python312\\Lib\\tkinter\\__init__.py\", line 3318, in see\n",
      "    self.tk.call(self._w, 'see', index)\n",
      "_tkinter.TclError: bad listbox index \"\": must be active, anchor, end, @x,y, or a number\n"
     ]
    },
    {
     "name": "stdout",
     "output_type": "stream",
     "text": [
      "1.0\n",
      "1.6\n",
      "1.13\n"
     ]
    }
   ],
   "source": [
    "import tkinter as tk\n",
    "\n",
    "class GrammarEditor:\n",
    "    def __init__(self, root):\n",
    "        self.root = root\n",
    "        self.root.title(\"Grammar Learning Editor\")\n",
    "        self.text = tk.Text(root, wrap=\"word\", undo=True)\n",
    "        self.text.pack(fill=\"both\", expand=True)\n",
    "        self.text.focus_set()\n",
    "\n",
    "        self.text.bind(\"<KeyRelease>\", self.on_text_change)\n",
    "        self.text.bind(\"<Tab>\", self.on_tab)\n",
    "        self.root.bind_all(\"<Up>\", self.on_up, add=\"+\")\n",
    "        self.root.bind_all(\"<Down>\", self.on_down, add=\"+\")\n",
    "        self.text.tag_configure(\"error\", underline=True, foreground=\"red\")\n",
    "\n",
    "        # Popup for suggestions with scrollbar\n",
    "        popup_frame = tk.Frame(root)\n",
    "        \n",
    "        self.popup_scrollbar = tk.Scrollbar(popup_frame, orient=\"vertical\")\n",
    "        self.popup = tk.Listbox(popup_frame, height=10, yscrollcommand=self.popup_scrollbar.set)\n",
    "        self.popup_scrollbar.config(command=self.popup.yview)\n",
    "        \n",
    "        # Pack inside the frame (Listbox on left, scrollbar on right)\n",
    "        self.popup.pack(side=\"left\", fill=\"both\", expand=True)\n",
    "        self.popup_scrollbar.pack(side=\"right\", fill=\"y\")\n",
    "        \n",
    "        # Store frame instead of Listbox directly for placement\n",
    "        self.popup_frame = popup_frame\n",
    "        \n",
    "        self.popup.bind(\"<Double-Button-1>\", self.apply_suggestion)\n",
    "        self.popup.bind(\"<Return>\", self.apply_suggestion)\n",
    "        self.popup_is_visible = False\n",
    "\n",
    "        self.selected: int = 0\n",
    "        self.suggestions = []\n",
    "        self.error_pos = None\n",
    "\n",
    "    def on_text_change(self, event=None):\n",
    "        text = self.text.get(\"1.0\", \"end-1c\")\n",
    "        \n",
    "        current_word = \"\" if text == \"\" or text.endswith(\" \") else text.split()[-1]\n",
    "        result = my_parser.parse(text)\n",
    "\n",
    "        # Clear error tag\n",
    "        self.text.tag_remove(\"error\", \"1.0\", \"end\")\n",
    "\n",
    "        # Hide popup if not needed\n",
    "        self.suggestions = list()\n",
    "        if result is None:\n",
    "            self.hide_popup()\n",
    "            return\n",
    "    \n",
    "        self.suggestions = [w.word for w in result.expected]\n",
    "        \n",
    "        self.error_pos = result.position\n",
    "\n",
    "        # Get text index for red underline\n",
    "        index = self.text.index(f\"1.0+{result.position}c\")\n",
    "        next_space = self.text.search(r\"\\s\", index, regexp=True)\n",
    "        if not next_space:\n",
    "            next_space = \"end\"\n",
    "\n",
    "        self.text.tag_add(\"error\", index, next_space)\n",
    "        self.show_popup(index, self.suggestions)\n",
    "\n",
    "    def show_popup(self, index, suggestions):\n",
    "        bbox = self.text.bbox(index)\n",
    "        if not bbox:\n",
    "            self.hide_popup()\n",
    "            return\n",
    "    \n",
    "        x, y, width, height = bbox\n",
    "        self.popup_frame.place(x=x, y=y + height)\n",
    "        self.popup.delete(0, tk.END)\n",
    "        for s in suggestions:\n",
    "            self.popup.insert(tk.END, s)\n",
    "        self.popup_is_visible = True\n",
    "        self.popup.selection_clear(0, tk.END)\n",
    "        self.popup.selection_set(self.selected)\n",
    "        self.popup.see(self.popup.curselection())\n",
    "    \n",
    "    def hide_popup(self):\n",
    "        self.popup_frame.place_forget()\n",
    "        self.popup_is_visible = False\n",
    "\n",
    "\n",
    "    def on_tab(self, event):\n",
    "        if self.popup_is_visible and self.suggestions:\n",
    "            suggestion = self.suggestions[self.popup.curselection()[0]]\n",
    "            self.insert_suggestion(suggestion)\n",
    "            return \"break\"  # Prevent default tab\n",
    "        return None\n",
    "    \n",
    "    def on_up(self, event):\n",
    "        \"\"\"Navigate popup list upward.\"\"\"\n",
    "        if not self.popup_is_visible:\n",
    "            return None\n",
    "        cur = self.popup.curselection()\n",
    "        if not cur:\n",
    "            new = 0\n",
    "        else:\n",
    "            new = (cur[0] - 1) % self.popup.size()\n",
    "        self.selected = new\n",
    "        self.popup.selection_clear(0, tk.END)\n",
    "        self.popup.selection_set(new)\n",
    "        self.popup.activate(new)\n",
    "        self.popup.see(new)  # 👈 ensure visible in scroll region\n",
    "        return \"break\"\n",
    "    \n",
    "    def on_down(self, event):\n",
    "        \"\"\"Navigate popup list downward.\"\"\"\n",
    "        if not self.popup_is_visible:\n",
    "            return None\n",
    "        cur = self.popup.curselection()\n",
    "        if not cur:\n",
    "            new = 0\n",
    "        else:\n",
    "            new = (cur[0] + 1) % self.popup.size()\n",
    "        self.selected = new\n",
    "        self.popup.selection_clear(0, tk.END)\n",
    "        self.popup.selection_set(new)\n",
    "        self.popup.activate(new)\n",
    "        self.popup.see(new)  # 👈 ensure visible in scroll region\n",
    "        return \"break\"\n",
    "\n",
    "    def apply_suggestion(self, event):\n",
    "        if self.popup_is_visible:\n",
    "            suggestion = self.suggestions[self.popup.curselection()[0]]\n",
    "            self.insert_suggestion(suggestion)\n",
    "\n",
    "    def insert_suggestion(self, suggestion):\n",
    "        if self.error_pos is not None:\n",
    "            start = self.text.index(f\"1.0+{self.error_pos}c\")\n",
    "            next_space = self.text.search(r\"\\s\", start, regexp=True)\n",
    "            if not next_space:\n",
    "                next_space = \"end\"\n",
    "            print(start)\n",
    "            self.text.delete(start, next_space)\n",
    "            self.text.insert(start, suggestion + \" \")\n",
    "            self.hide_popup()\n",
    "            self.on_text_change()\n",
    "\n",
    "\n",
    "if __name__ == \"__main__\":\n",
    "    root = tk.Tk()\n",
    "    app = GrammarEditor(root)\n",
    "    root.mainloop()\n"
   ],
   "metadata": {
    "collapsed": false,
    "ExecuteTime": {
     "end_time": "2025-10-21T07:16:40.843069600Z",
     "start_time": "2025-10-21T07:15:35.322864300Z"
    }
   },
   "id": "efa9d36a8376e6f5"
  }
 ],
 "metadata": {
  "kernelspec": {
   "display_name": "Python 3",
   "language": "python",
   "name": "python3"
  },
  "language_info": {
   "codemirror_mode": {
    "name": "ipython",
    "version": 2
   },
   "file_extension": ".py",
   "mimetype": "text/x-python",
   "name": "python",
   "nbconvert_exporter": "python",
   "pygments_lexer": "ipython2",
   "version": "2.7.6"
  }
 },
 "nbformat": 4,
 "nbformat_minor": 5
}
