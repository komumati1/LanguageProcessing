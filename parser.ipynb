{
 "cells": [
  {
   "cell_type": "code",
   "execution_count": 1,
   "outputs": [],
   "source": [
    "from polish_parser import Parser\n",
    "\n",
    "my_parser = Parser()"
   ],
   "metadata": {
    "collapsed": false,
    "ExecuteTime": {
     "end_time": "2025-10-20T19:54:32.561440500Z",
     "start_time": "2025-10-20T19:54:32.113190800Z"
    }
   },
   "id": "89d5e83c60314b49"
  },
  {
   "cell_type": "code",
   "execution_count": 2,
   "outputs": [
    {
     "data": {
      "text/plain": "Position: 0\nLength: 1\nExpecting: [pies, pan, pilot, ptak, policjant, pisarz, pilot, piosenka, psy, panowie, piloci, ptaki, policjanci, pisarze, piloci, piosenki]\nReason: Unrecognized word"
     },
     "execution_count": 2,
     "metadata": {},
     "output_type": "execute_result"
    }
   ],
   "source": [
    "my_parser.parse(\"p\")"
   ],
   "metadata": {
    "collapsed": false,
    "ExecuteTime": {
     "end_time": "2025-10-20T19:54:33.756892Z",
     "start_time": "2025-10-20T19:54:33.740656200Z"
    }
   },
   "id": "fe011881cb52ff3b"
  }
 ],
 "metadata": {
  "kernelspec": {
   "display_name": "Python 3",
   "language": "python",
   "name": "python3"
  },
  "language_info": {
   "codemirror_mode": {
    "name": "ipython",
    "version": 2
   },
   "file_extension": ".py",
   "mimetype": "text/x-python",
   "name": "python",
   "nbconvert_exporter": "python",
   "pygments_lexer": "ipython2",
   "version": "2.7.6"
  }
 },
 "nbformat": 4,
 "nbformat_minor": 5
}
